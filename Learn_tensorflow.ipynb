{
  "nbformat": 4,
  "nbformat_minor": 0,
  "metadata": {
    "colab": {
      "name": "Learn-tensorflow.ipynb",
      "provenance": [],
      "authorship_tag": "ABX9TyOtiNW4+3TExskmBuIjedwz",
      "include_colab_link": true
    },
    "kernelspec": {
      "name": "python3",
      "display_name": "Python 3"
    },
    "language_info": {
      "name": "python"
    }
  },
  "cells": [
    {
      "cell_type": "markdown",
      "metadata": {
        "id": "view-in-github",
        "colab_type": "text"
      },
      "source": [
        "<a href=\"https://colab.research.google.com/github/khamalismadie/Learn_TensorFlow/blob/main/Learn_tensorflow.ipynb\" target=\"_parent\"><img src=\"https://colab.research.google.com/assets/colab-badge.svg\" alt=\"Open In Colab\"/></a>"
      ]
    },
    {
      "cell_type": "markdown",
      "metadata": {
        "id": "tDTdMh5aPSJX"
      },
      "source": [
        "TensorFlow Version"
      ]
    },
    {
      "cell_type": "code",
      "metadata": {
        "colab": {
          "base_uri": "https://localhost:8080/"
        },
        "id": "lYPKjhGIOhzt",
        "outputId": "bdc92abb-3f7f-40e6-e478-a20b0919c228"
      },
      "source": [
        "import tensorflow as tf\n",
        "print(\"TensorFlow version:\", tf.__version__)"
      ],
      "execution_count": 2,
      "outputs": [
        {
          "output_type": "stream",
          "name": "stdout",
          "text": [
            "TensorFlow version: 2.7.0\n"
          ]
        }
      ]
    },
    {
      "cell_type": "markdown",
      "metadata": {
        "id": "m81wCSkaPcEO"
      },
      "source": [
        "Load **Dataset**"
      ]
    },
    {
      "cell_type": "code",
      "metadata": {
        "colab": {
          "base_uri": "https://localhost:8080/"
        },
        "id": "scSCyCyJPeQu",
        "outputId": "c1b2bdda-7640-434f-b33e-6c7bb0f1f443"
      },
      "source": [
        "mnist = tf.keras.datasets.mnist\n",
        "\n",
        "(x_train, y_train), (x_test, y_test) = mnist.load_data()\n",
        "x_train, x_test = x_train / 255.0, x_test / 255.0"
      ],
      "execution_count": 3,
      "outputs": [
        {
          "output_type": "stream",
          "name": "stdout",
          "text": [
            "Downloading data from https://storage.googleapis.com/tensorflow/tf-keras-datasets/mnist.npz\n",
            "11493376/11490434 [==============================] - 0s 0us/step\n",
            "11501568/11490434 [==============================] - 0s 0us/step\n"
          ]
        }
      ]
    },
    {
      "cell_type": "markdown",
      "metadata": {
        "id": "iNE9V36ZPsfk"
      },
      "source": [
        "Build a machine learning model"
      ]
    },
    {
      "cell_type": "code",
      "metadata": {
        "colab": {
          "base_uri": "https://localhost:8080/"
        },
        "id": "joYsi04fP4WV",
        "outputId": "166ece3c-33e3-4729-c322-92a1474339a6"
      },
      "source": [
        "tf.keras.Sequential(\n",
        "    layers=None, name=None\n",
        ")"
      ],
      "execution_count": 6,
      "outputs": [
        {
          "output_type": "execute_result",
          "data": {
            "text/plain": [
              "<keras.engine.sequential.Sequential at 0x7fea0d32edd0>"
            ]
          },
          "metadata": {},
          "execution_count": 6
        }
      ]
    },
    {
      "cell_type": "code",
      "metadata": {
        "id": "0fnoV7TUPx6M"
      },
      "source": [
        "model = tf.keras.models.Sequential([\n",
        "  tf.keras.layers.Flatten(input_shape=(28, 28)),\n",
        "  tf.keras.layers.Dense(128, activation='relu'),\n",
        "  tf.keras.layers.Dropout(0.2),\n",
        "  tf.keras.layers.Dense(10)\n",
        "])"
      ],
      "execution_count": 8,
      "outputs": []
    },
    {
      "cell_type": "code",
      "metadata": {
        "colab": {
          "base_uri": "https://localhost:8080/"
        },
        "id": "UD4HQzXfQBaM",
        "outputId": "f0cf05e9-6c7c-457e-9000-67beaa528a7f"
      },
      "source": [
        "predictions = model(x_train[:1]).numpy()\n",
        "predictions"
      ],
      "execution_count": 9,
      "outputs": [
        {
          "output_type": "execute_result",
          "data": {
            "text/plain": [
              "array([[ 0.44631773,  0.12242728,  0.03123894,  0.6511169 , -0.20671321,\n",
              "        -0.5897445 , -0.11625844,  0.06630038, -0.64613354,  0.762167  ]],\n",
              "      dtype=float32)"
            ]
          },
          "metadata": {},
          "execution_count": 9
        }
      ]
    },
    {
      "cell_type": "code",
      "metadata": {
        "colab": {
          "base_uri": "https://localhost:8080/"
        },
        "id": "uibuiI5XQE9r",
        "outputId": "f1f8443d-ff57-4c5e-f02d-a3310fe08210"
      },
      "source": [
        "tf.nn.softmax(predictions).numpy()"
      ],
      "execution_count": 10,
      "outputs": [
        {
          "output_type": "execute_result",
          "data": {
            "text/plain": [
              "array([[0.13428918, 0.09713532, 0.08866956, 0.16481023, 0.06989294,\n",
              "        0.04765241, 0.07650983, 0.09183359, 0.04503969, 0.18416733]],\n",
              "      dtype=float32)"
            ]
          },
          "metadata": {},
          "execution_count": 10
        }
      ]
    },
    {
      "cell_type": "code",
      "metadata": {
        "id": "3URbDB9AQJQl"
      },
      "source": [
        "loss_fn = tf.keras.losses.SparseCategoricalCrossentropy(from_logits=True)"
      ],
      "execution_count": 11,
      "outputs": []
    },
    {
      "cell_type": "code",
      "metadata": {
        "colab": {
          "base_uri": "https://localhost:8080/"
        },
        "id": "1pYxMa02QMPM",
        "outputId": "f02ac7b6-9528-44fe-fb2b-70bb05c00d60"
      },
      "source": [
        "loss_fn(y_train[:1], predictions).numpy()"
      ],
      "execution_count": 12,
      "outputs": [
        {
          "output_type": "execute_result",
          "data": {
            "text/plain": [
              "3.043822"
            ]
          },
          "metadata": {},
          "execution_count": 12
        }
      ]
    },
    {
      "cell_type": "code",
      "metadata": {
        "id": "5_4LamA_QQgj"
      },
      "source": [
        "model.compile(optimizer='adam',\n",
        "              loss=loss_fn,\n",
        "              metrics=['accuracy'])"
      ],
      "execution_count": 13,
      "outputs": []
    },
    {
      "cell_type": "code",
      "metadata": {
        "colab": {
          "base_uri": "https://localhost:8080/"
        },
        "id": "bxXv1_x3QUEj",
        "outputId": "5da21026-d2d4-44be-ca07-55f33a26f632"
      },
      "source": [
        "model.fit(x_train, y_train, epochs=5)"
      ],
      "execution_count": 14,
      "outputs": [
        {
          "output_type": "stream",
          "name": "stdout",
          "text": [
            "Epoch 1/5\n",
            "1875/1875 [==============================] - 5s 2ms/step - loss: 0.2916 - accuracy: 0.9152\n",
            "Epoch 2/5\n",
            "1875/1875 [==============================] - 5s 3ms/step - loss: 0.1426 - accuracy: 0.9578\n",
            "Epoch 3/5\n",
            "1875/1875 [==============================] - 5s 2ms/step - loss: 0.1051 - accuracy: 0.9677\n",
            "Epoch 4/5\n",
            "1875/1875 [==============================] - 5s 2ms/step - loss: 0.0877 - accuracy: 0.9730\n",
            "Epoch 5/5\n",
            "1875/1875 [==============================] - 5s 3ms/step - loss: 0.0750 - accuracy: 0.9764\n"
          ]
        },
        {
          "output_type": "execute_result",
          "data": {
            "text/plain": [
              "<keras.callbacks.History at 0x7fea0d2e3fd0>"
            ]
          },
          "metadata": {},
          "execution_count": 14
        }
      ]
    },
    {
      "cell_type": "code",
      "metadata": {
        "id": "DGR6x_riQdOj"
      },
      "source": [
        "probability_model = tf.keras.Sequential([\n",
        "  model,\n",
        "  tf.keras.layers.Softmax()\n",
        "])"
      ],
      "execution_count": 15,
      "outputs": []
    },
    {
      "cell_type": "code",
      "metadata": {
        "colab": {
          "base_uri": "https://localhost:8080/"
        },
        "id": "HKxHqNkQQf2y",
        "outputId": "26170f03-3208-4542-c483-3937cfa7b6eb"
      },
      "source": [
        "probability_model(x_test[:5])"
      ],
      "execution_count": 16,
      "outputs": [
        {
          "output_type": "execute_result",
          "data": {
            "text/plain": [
              "<tf.Tensor: shape=(5, 10), dtype=float32, numpy=\n",
              "array([[2.79054888e-07, 6.13513436e-08, 1.85594290e-05, 4.11772111e-04,\n",
              "        2.42132226e-12, 1.65738788e-06, 1.73108042e-13, 9.99558151e-01,\n",
              "        4.23970505e-06, 5.32723789e-06],\n",
              "       [5.42289658e-10, 3.09795432e-05, 9.99942303e-01, 2.66521711e-05,\n",
              "        3.16036955e-20, 8.84164297e-09, 1.02083708e-09, 5.90281816e-12,\n",
              "        1.38380365e-08, 3.55897648e-16],\n",
              "       [1.11954478e-06, 9.98381615e-01, 3.83456005e-04, 8.75565820e-06,\n",
              "        2.42143487e-05, 5.62016885e-06, 4.79282517e-06, 1.00536877e-03,\n",
              "        1.84373610e-04, 7.29027818e-07],\n",
              "       [9.99750793e-01, 4.17670032e-09, 2.00944662e-04, 1.20575237e-06,\n",
              "        1.37358906e-08, 1.84688076e-06, 5.47989293e-06, 3.07738046e-05,\n",
              "        2.50748773e-08, 8.90401225e-06],\n",
              "       [2.81523603e-06, 2.21055640e-09, 6.12187650e-05, 9.17563980e-08,\n",
              "        9.82683837e-01, 5.51209587e-06, 4.37532708e-06, 1.66954938e-04,\n",
              "        5.89401338e-07, 1.70745477e-02]], dtype=float32)>"
            ]
          },
          "metadata": {},
          "execution_count": 16
        }
      ]
    }
  ]
}